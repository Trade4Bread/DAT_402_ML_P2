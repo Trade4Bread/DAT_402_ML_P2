{
 "cells": [
  {
   "cell_type": "markdown",
   "id": "ac6d7a7f",
   "metadata": {},
   "source": [
    "# Mars Images"
   ]
  },
  {
   "cell_type": "markdown",
   "id": "bb45df4c",
   "metadata": {},
   "source": [
    "## Import Libraries"
   ]
  },
  {
   "cell_type": "code",
   "execution_count": 1,
   "id": "cb6ce3db",
   "metadata": {},
   "outputs": [],
   "source": [
    "import pandas as pd\n",
    "import numpy as np\n",
    "import matplotlib.pyplot as plt\n",
    "from PIL import Image\n",
    "import os\n",
    "import math"
   ]
  },
  {
   "cell_type": "markdown",
   "id": "3e68313c",
   "metadata": {},
   "source": [
    "## Load Data"
   ]
  },
  {
   "cell_type": "code",
   "execution_count": 2,
   "id": "d8216184",
   "metadata": {},
   "outputs": [],
   "source": [
    "folder_path = \"calibrated\"\n",
    "\n",
    "# Get a list of all files in the folder\n",
    "file_list = os.listdir(folder_path)\n",
    "\n",
    "# Filter the list to keep only files with certain extensions (e.g., .jpg, .png)\n",
    "image_files = [file for file in file_list if file.lower().endswith(('.jpg', '.png'))]\n",
    "\n",
    "# Load images into Python\n",
    "images = [Image.open(os.path.join(folder_path, file)) for file in image_files]"
   ]
  },
  {
   "cell_type": "code",
   "execution_count": 3,
   "id": "9bd018a4",
   "metadata": {},
   "outputs": [],
   "source": [
    "labels = pd.read_fwf('msl_synset_words-indexed.txt', sep=' ', header=None)\n",
    "labels.rename(columns={0:'Label', 1:'Description'}, inplace=True)"
   ]
  },
  {
   "cell_type": "code",
   "execution_count": 4,
   "id": "7a182bee",
   "metadata": {},
   "outputs": [],
   "source": [
    "train_shuffled = pd.read_fwf('train-calibrated-shuffled.txt', sep=' ', header=None)\n",
    "train_shuffled.rename(columns={0:'Filename', 1:'Label'}, inplace=True)\n",
    "train_shuffled['Filename'] = train_shuffled['Filename'].str[11:]"
   ]
  },
  {
   "cell_type": "code",
   "execution_count": 5,
   "id": "9bdf8d7c",
   "metadata": {},
   "outputs": [],
   "source": [
    "val_shuffled = pd.read_fwf('val-calibrated-shuffled.txt', sep=' ', header=None)\n",
    "val_shuffled.rename(columns={0:'Filename', 1:'Label'}, inplace=True)\n",
    "val_shuffled['Filename'] = val_shuffled['Filename'].str[11:]"
   ]
  },
  {
   "cell_type": "code",
   "execution_count": 6,
   "id": "754a26ed",
   "metadata": {},
   "outputs": [],
   "source": [
    "test_shuffled = pd.read_fwf('test-calibrated-shuffled.txt', sep=' ', header=None)\n",
    "test_shuffled.rename(columns={0:'Filename', 1:'Label'}, inplace=True)\n",
    "test_shuffled['Filename'] = test_shuffled['Filename'].str[11:]"
   ]
  },
  {
   "cell_type": "code",
   "execution_count": 7,
   "id": "f7cd8f7a",
   "metadata": {},
   "outputs": [],
   "source": [
    "filenames = pd.DataFrame(os.listdir('calibrated'))\n",
    "filenames.rename(columns={0:'Filename'}, inplace=True)"
   ]
  },
  {
   "cell_type": "markdown",
   "id": "0a8b6670",
   "metadata": {},
   "source": [
    "## Assign Labels to Images"
   ]
  },
  {
   "cell_type": "code",
   "execution_count": 8,
   "id": "47182a7d",
   "metadata": {},
   "outputs": [
    {
     "name": "stderr",
     "output_type": "stream",
     "text": [
      "C:\\Users\\Jimmy\\AppData\\Local\\Temp\\ipykernel_15524\\3124145865.py:10: SettingWithCopyWarning: \n",
      "A value is trying to be set on a copy of a slice from a DataFrame\n",
      "\n",
      "See the caveats in the documentation: https://pandas.pydata.org/pandas-docs/stable/user_guide/indexing.html#returning-a-view-versus-a-copy\n",
      "  filenames['Label'][i] = df['Label'][j]\n"
     ]
    },
    {
     "data": {
      "text/html": [
       "<div>\n",
       "<style scoped>\n",
       "    .dataframe tbody tr th:only-of-type {\n",
       "        vertical-align: middle;\n",
       "    }\n",
       "\n",
       "    .dataframe tbody tr th {\n",
       "        vertical-align: top;\n",
       "    }\n",
       "\n",
       "    .dataframe thead th {\n",
       "        text-align: right;\n",
       "    }\n",
       "</style>\n",
       "<table border=\"1\" class=\"dataframe\">\n",
       "  <thead>\n",
       "    <tr style=\"text-align: right;\">\n",
       "      <th></th>\n",
       "      <th>Filename</th>\n",
       "      <th>Label</th>\n",
       "    </tr>\n",
       "  </thead>\n",
       "  <tbody>\n",
       "    <tr>\n",
       "      <th>0</th>\n",
       "      <td>0003ML0000000110100031E01_DRCL.JPG</td>\n",
       "      <td>9.0</td>\n",
       "    </tr>\n",
       "    <tr>\n",
       "      <th>1</th>\n",
       "      <td>0003ML0000000110100031I01_DRCL.JPG</td>\n",
       "      <td>9.0</td>\n",
       "    </tr>\n",
       "    <tr>\n",
       "      <th>2</th>\n",
       "      <td>0003ML0000000120100032E01_DRCL.JPG</td>\n",
       "      <td>9.0</td>\n",
       "    </tr>\n",
       "    <tr>\n",
       "      <th>3</th>\n",
       "      <td>0003ML0000000120100032I01_DRCL.JPG</td>\n",
       "      <td>9.0</td>\n",
       "    </tr>\n",
       "    <tr>\n",
       "      <th>4</th>\n",
       "      <td>0003ML0000000130100033E01_DRCL.JPG</td>\n",
       "      <td>9.0</td>\n",
       "    </tr>\n",
       "    <tr>\n",
       "      <th>...</th>\n",
       "      <td>...</td>\n",
       "      <td>...</td>\n",
       "    </tr>\n",
       "    <tr>\n",
       "      <th>6732</th>\n",
       "      <td>1048MR0046080000104543I01_DRCL.JPG</td>\n",
       "      <td>0.0</td>\n",
       "    </tr>\n",
       "    <tr>\n",
       "      <th>6733</th>\n",
       "      <td>1059ML0046560000306154E01_DRCL.JPG</td>\n",
       "      <td>4.0</td>\n",
       "    </tr>\n",
       "    <tr>\n",
       "      <th>6734</th>\n",
       "      <td>1059MR0046570000104690E01_DRCL.JPG</td>\n",
       "      <td>4.0</td>\n",
       "    </tr>\n",
       "    <tr>\n",
       "      <th>6735</th>\n",
       "      <td>1060ML0046630000306178E01_DRCL.JPG</td>\n",
       "      <td>4.0</td>\n",
       "    </tr>\n",
       "    <tr>\n",
       "      <th>6736</th>\n",
       "      <td>1060MR0046640000104718E01_DRCL.JPG</td>\n",
       "      <td>4.0</td>\n",
       "    </tr>\n",
       "  </tbody>\n",
       "</table>\n",
       "<p>6737 rows × 2 columns</p>\n",
       "</div>"
      ],
      "text/plain": [
       "                                Filename  Label\n",
       "0     0003ML0000000110100031E01_DRCL.JPG    9.0\n",
       "1     0003ML0000000110100031I01_DRCL.JPG    9.0\n",
       "2     0003ML0000000120100032E01_DRCL.JPG    9.0\n",
       "3     0003ML0000000120100032I01_DRCL.JPG    9.0\n",
       "4     0003ML0000000130100033E01_DRCL.JPG    9.0\n",
       "...                                  ...    ...\n",
       "6732  1048MR0046080000104543I01_DRCL.JPG    0.0\n",
       "6733  1059ML0046560000306154E01_DRCL.JPG    4.0\n",
       "6734  1059MR0046570000104690E01_DRCL.JPG    4.0\n",
       "6735  1060ML0046630000306178E01_DRCL.JPG    4.0\n",
       "6736  1060MR0046640000104718E01_DRCL.JPG    4.0\n",
       "\n",
       "[6737 rows x 2 columns]"
      ]
     },
     "execution_count": 8,
     "metadata": {},
     "output_type": "execute_result"
    }
   ],
   "source": [
    "filenames =filenames.merge(train_shuffled, how='left', on='Filename')\n",
    "\n",
    "dfs = [val_shuffled, test_shuffled]\n",
    "for df in dfs:\n",
    "    for val in df['Filename']:\n",
    "        i = 0\n",
    "        j = df.index[df['Filename'] == val]\n",
    "        while i < len(filenames):\n",
    "            if val == filenames['Filename'][i]:\n",
    "                filenames['Label'][i] = df['Label'][j]\n",
    "            i += 1\n",
    "            \n",
    "filenames"
   ]
  },
  {
   "cell_type": "code",
   "execution_count": 10,
   "id": "09161dfd",
   "metadata": {},
   "outputs": [
    {
     "data": {
      "text/plain": [
       "Filename     0\n",
       "Label       46\n",
       "dtype: int64"
      ]
     },
     "execution_count": 10,
     "metadata": {},
     "output_type": "execute_result"
    }
   ],
   "source": [
    "filenames.isna().sum()"
   ]
  },
  {
   "cell_type": "code",
   "execution_count": 12,
   "id": "fd60bf58",
   "metadata": {},
   "outputs": [
    {
     "data": {
      "text/plain": [
       "6737"
      ]
     },
     "execution_count": 12,
     "metadata": {},
     "output_type": "execute_result"
    }
   ],
   "source": [
    "len(images)"
   ]
  },
  {
   "cell_type": "markdown",
   "id": "c74be6dc",
   "metadata": {},
   "source": [
    "## Exploration"
   ]
  },
  {
   "cell_type": "code",
   "execution_count": null,
   "id": "ca8ba827",
   "metadata": {},
   "outputs": [],
   "source": [
    "# Assuming 'images' is the list of PIL Image objects\n",
    "num_images_to_display = 12\n",
    "\n",
    "# Calculate the number of rows and columns for the subplot grid\n",
    "num_rows = math.ceil(num_images_to_display / 4)\n",
    "num_cols = min(num_images_to_display, 4)\n",
    "\n",
    "# Create a 3x4 grid of subplots\n",
    "fig, axes = plt.subplots(num_rows, num_cols, figsize=(12, 9))\n",
    "\n",
    "# Flatten the axes array if it's more than 1D\n",
    "axes = axes.flatten()\n",
    "\n",
    "# Display the first few images in the subplots\n",
    "for i in range(num_images_to_display):\n",
    "    j = i*200\n",
    "    if i < len(images):\n",
    "        axes[i].imshow(images[j])\n",
    "        axes[i].set_title(f\"Image {j + 1}\")\n",
    "\n",
    "# Remove any empty subplots\n",
    "for i in range(num_images_to_display, len(axes)):\n",
    "    fig.delaxes(axes[i])\n",
    "\n",
    "plt.tight_layout()\n",
    "plt.show()"
   ]
  },
  {
   "cell_type": "code",
   "execution_count": null,
   "id": "461d0ffe",
   "metadata": {},
   "outputs": [],
   "source": []
  }
 ],
 "metadata": {
  "kernelspec": {
   "display_name": "Python 3 (ipykernel)",
   "language": "python",
   "name": "python3"
  },
  "language_info": {
   "codemirror_mode": {
    "name": "ipython",
    "version": 3
   },
   "file_extension": ".py",
   "mimetype": "text/x-python",
   "name": "python",
   "nbconvert_exporter": "python",
   "pygments_lexer": "ipython3",
   "version": "3.11.4"
  }
 },
 "nbformat": 4,
 "nbformat_minor": 5
}
